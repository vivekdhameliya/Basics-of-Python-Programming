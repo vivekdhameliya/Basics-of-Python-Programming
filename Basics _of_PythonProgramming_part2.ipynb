{
 "cells": [
  {
   "cell_type": "markdown",
   "metadata": {},
   "source": [
    "# Basics of Python Programming_part2\n",
    "\n",
    "### I published an article on Medium about Basics of python programming, Which you can find on medium.com.This notebook will help you to obtain the fundamental knowledge about how to code in python language. Currently, in the field of Data Scientist or Data Analyst, most of them are use Python for coding their script.\n",
    "\n",
    "### In the first notebook (Basics_of_pythonprogramming.ipynb), I covered till For and While loop (wiht range() function). I updated the list by introduing Reduce, Modules and Packages.\n",
    "\n",
    "### This notebook will covers topic from 'Functions' and follows the order of updated list:\n",
    "* Python Keywords & Identifiers\n",
    "* Variables & Data types\n",
    "    * Numbers\n",
    "    * Strings\n",
    "    * Booleans\n",
    "    * Lists\n",
    "    * Tuples \n",
    "    * Sets\n",
    "    * Dictionaries\n",
    "* Operators\n",
    "    * Arithmetic operators\n",
    "    * Comparision operators\n",
    "    * Logical operators\n",
    "    * Bitwise operators\n",
    "    * Assignment operators\n",
    "    * Special operator\n",
    "        * Identity operator\n",
    "        * MemberShip operator\n",
    "* if,elif, else Statements\n",
    "* For and While (also with range()) Loops\n",
    "* Functions\n",
    "* Lambda expressions\n",
    "* Map, Filter and Reduce\n",
    "* Methods\n",
    "* Modules and Packages"
   ]
  },
  {
   "cell_type": "markdown",
   "metadata": {},
   "source": [
    "## Functions\n",
    "* Syntax and remarks for writing functions in python.\n",
    "### Syntax\n",
    "* def functionname(parameters): \n",
    "    \n",
    "    \"\"\"     \n",
    "    Doc String     \n",
    "    \"\"\"      \n",
    "    Statement(s)\n",
    "### Remarks\n",
    "1. \"def\" indicates the start of the function coding.\n",
    "2. Parameters (or arguments) through which we pass values to a function. These are voluntary. You can code function without it.\n",
    "3. A colon(:) to denote the end of the function coding.\n",
    "4. Doc String describes what the function performs. This is voluntary. \n",
    "5. \"return\" statement used to return a value from the function. This is voluntary. You can code function without it."
   ]
  },
  {
   "cell_type": "code",
   "execution_count": 1,
   "metadata": {},
   "outputs": [],
   "source": [
    "# Belowing function 'printing_the_name' will print the name which we provide and before that it puts spanish greetings: Hola.\n",
    "\n",
    "def printing_the_name(names): \n",
    "    print ('Hola' + str(names))"
   ]
  },
  {
   "cell_type": "code",
   "execution_count": 2,
   "metadata": {},
   "outputs": [
    {
     "name": "stdout",
     "output_type": "stream",
     "text": [
      "Hola Vivek\n"
     ]
    }
   ],
   "source": [
    "# Following process knwon as calling a function.\n",
    "printing_the_name(' Vivek')"
   ]
  },
  {
   "cell_type": "markdown",
   "metadata": {},
   "source": [
    "#### some additional fundamentals point\n",
    "* The first string after the function is known as the docstring (short for documentation string).\n",
    "* The return statement is used to perform exit a function and go back to the first position from where it was called."
   ]
  },
  {
   "cell_type": "code",
   "execution_count": 3,
   "metadata": {},
   "outputs": [],
   "source": [
    "# Let's practice fundamentals that we discussed above\n",
    "def sum_calculator(listl):\n",
    "    \"\"\"\n",
    "    This functions returns to the sum of all the available values and elements in a listl\n",
    "    \"\"\"\n",
    "    #initialize sum\n",
    "    summation = 0\n",
    "    \n",
    "    #iterating over the list\n",
    "    for num in listl:\n",
    "        summation += num\n",
    "    return summation"
   ]
  },
  {
   "cell_type": "code",
   "execution_count": 4,
   "metadata": {},
   "outputs": [
    {
     "name": "stdout",
     "output_type": "stream",
     "text": [
      "690\n"
     ]
    }
   ],
   "source": [
    "Result = sum_calculator([81, 542, 53, 14])\n",
    "print(Result)"
   ]
  },
  {
   "cell_type": "code",
   "execution_count": 5,
   "metadata": {},
   "outputs": [
    {
     "name": "stdout",
     "output_type": "stream",
     "text": [
      "\n",
      "    This functions returns to the sum of all the available values and elements in a listl\n",
      "    \n"
     ]
    }
   ],
   "source": [
    "# printing the doc string\n",
    "print(sum_calculator.__doc__)"
   ]
  },
  {
   "cell_type": "code",
   "execution_count": 6,
   "metadata": {},
   "outputs": [],
   "source": [
    "# Let's code for finding the LCM of two number values \n",
    "def LCM_calculator(number1, number2):\n",
    "    \"\"\"\n",
    "    Computing LCM of two number values\n",
    "    \"\"\"\n",
    "    # for choosing the greater number\n",
    "    if number1 > number2:\n",
    "        greater = number1\n",
    "    else:\n",
    "        greater = number2\n",
    "        \n",
    "    while(True):\n",
    "        if((greater % number1 == 0) and (greater % number2 == 0)):\n",
    "            LCM= greater\n",
    "            break\n",
    "        greater += 1\n",
    "    return LCM"
   ]
  },
  {
   "cell_type": "code",
   "execution_count": 7,
   "metadata": {},
   "outputs": [
    {
     "name": "stdout",
     "output_type": "stream",
     "text": [
      "L.C.M of 55 and 1100 is: 1100\n"
     ]
    }
   ],
   "source": [
    "number1 = 55\n",
    "number2 = 1100\n",
    "print(\"L.C.M of {0} and {1} is: {2}\".format(number1, number2, LCM_calculator(number1, number2)))\n"
   ]
  },
  {
   "cell_type": "markdown",
   "metadata": {},
   "source": [
    "## Built-in Functions\n",
    "* Below list shows available Built-in Functions in Python\n",
    "1. abs()\n",
    "2. all()\n",
    "3. dir()\n",
    "4. divmod()\n",
    "5. enumerate()\n",
    "6. filter()\n",
    "7. isinstance()\n",
    "8. map()\n",
    "9. reduce()"
   ]
  },
  {
   "cell_type": "markdown",
   "metadata": {},
   "source": [
    "### Built-in Function: abs()"
   ]
  },
  {
   "cell_type": "code",
   "execution_count": 8,
   "metadata": {},
   "outputs": [
    {
     "name": "stdout",
     "output_type": "stream",
     "text": [
      "84\n"
     ]
    }
   ],
   "source": [
    "# find the absolute value of any number\n",
    "num1 = -84\n",
    "print(abs(num1))"
   ]
  },
  {
   "cell_type": "markdown",
   "metadata": {},
   "source": [
    "### Built-in Function: all()\n",
    "* it shows True: if all elements in given list are an iterable\n",
    "* it shows False: if any of the element in given list are an iterable"
   ]
  },
  {
   "cell_type": "code",
   "execution_count": 9,
   "metadata": {},
   "outputs": [
    {
     "name": "stdout",
     "output_type": "stream",
     "text": [
      "True\n",
      "False\n"
     ]
    }
   ],
   "source": [
    "list1 = [11, 22, 33, 44, 55, 66, 77, 88, 99]\n",
    "print(all(list1)) # Result must be True\n",
    "\n",
    "# If 0 is in the list\n",
    "list2 = [0, 1, 2, 3, 4, 5, 6, 7, 8, 9]\n",
    "print(all(list2)) # Result must be False\n",
    "\n",
    "#empty list is always true: Try yourself!"
   ]
  },
  {
   "cell_type": "markdown",
   "metadata": {},
   "source": [
    "### Built-in Function: dir()\n",
    "* dir() returns a list of valid attributes of the given object."
   ]
  },
  {
   "cell_type": "code",
   "execution_count": 10,
   "metadata": {},
   "outputs": [
    {
     "name": "stdout",
     "output_type": "stream",
     "text": [
      "['__add__', '__class__', '__contains__', '__delattr__', '__delitem__', '__dir__', '__doc__', '__eq__', '__format__', '__ge__', '__getattribute__', '__getitem__', '__gt__', '__hash__', '__iadd__', '__imul__', '__init__', '__init_subclass__', '__iter__', '__le__', '__len__', '__lt__', '__mul__', '__ne__', '__new__', '__reduce__', '__reduce_ex__', '__repr__', '__reversed__', '__rmul__', '__setattr__', '__setitem__', '__sizeof__', '__str__', '__subclasshook__', 'append', 'clear', 'copy', 'count', 'extend', 'index', 'insert', 'pop', 'remove', 'reverse', 'sort']\n"
     ]
    }
   ],
   "source": [
    "print(dir(list1))"
   ]
  },
  {
   "cell_type": "markdown",
   "metadata": {},
   "source": [
    "### Built-in Function: divmod()\n",
    "* divmod() requires two numbers and returns a tuple (a pair of numbers) inculding of their quotient and remainder."
   ]
  },
  {
   "cell_type": "code",
   "execution_count": 11,
   "metadata": {},
   "outputs": [
    {
     "name": "stdout",
     "output_type": "stream",
     "text": [
      "(0, 4)\n"
     ]
    }
   ],
   "source": [
    "print(divmod(4,6))"
   ]
  },
  {
   "cell_type": "markdown",
   "metadata": {},
   "source": [
    "### Built-in Function: enumerate()\n",
    "* It adds counter to an iterable and returns it.\n",
    "* syntax for enumerate() is given below:\n",
    "        enumerate(iterable, start=)"
   ]
  },
  {
   "cell_type": "code",
   "execution_count": 12,
   "metadata": {},
   "outputs": [
    {
     "name": "stdout",
     "output_type": "stream",
     "text": [
      "element 11 has value 11\n",
      "element 12 has value 22\n",
      "element 13 has value 33\n",
      "element 14 has value 44\n",
      "element 15 has value 55\n",
      "element 16 has value 66\n",
      "element 17 has value 77\n",
      "element 18 has value 88\n",
      "element 19 has value 99\n"
     ]
    }
   ],
   "source": [
    "for element, num in enumerate(list1, start=11):\n",
    "        print(\"element {0} has value {1}\".format(element, num))    "
   ]
  },
  {
   "cell_type": "markdown",
   "metadata": {},
   "source": [
    "### Built-in Function: filter()\n",
    "* The filter() makes an iterator from elements of an iterable for which a function returns True.\n",
    "* syntax for fiter is given below:\n",
    "        filter(function, iterable)"
   ]
  },
  {
   "cell_type": "code",
   "execution_count": 13,
   "metadata": {},
   "outputs": [],
   "source": [
    "def positivenum_finder(index):\n",
    "    \"\"\"\n",
    "    This function finds the positive number if value of that index is positive\n",
    "    \"\"\"\n",
    "    if index > 0:\n",
    "        return index"
   ]
  },
  {
   "cell_type": "code",
   "execution_count": 14,
   "metadata": {},
   "outputs": [
    {
     "name": "stdout",
     "output_type": "stream",
     "text": [
      "[-50, -40, -30, -20, -10, 0, 10, 20, 30, 40]\n"
     ]
    }
   ],
   "source": [
    "list3 = range(-50,50,10) # generating a list with numbers from -50 to 50 and distance is 10 between two numbers\n",
    "print(list(list3))"
   ]
  },
  {
   "cell_type": "code",
   "execution_count": 15,
   "metadata": {},
   "outputs": [
    {
     "name": "stdout",
     "output_type": "stream",
     "text": [
      "[10, 20, 30, 40]\n"
     ]
    }
   ],
   "source": [
    "positivenum_list = list(filter(positivenum_finder, list3))\n",
    "print(positivenum_list)"
   ]
  },
  {
   "cell_type": "markdown",
   "metadata": {},
   "source": [
    "### Built-in Function: isinstance()\n",
    "* It examins if the object is an instance or subclass of classinfo class.\n",
    "* syntax for isinstance() is given below:\n",
    "        isinstance(object, classinfo)\n"
   ]
  },
  {
   "cell_type": "code",
   "execution_count": 16,
   "metadata": {},
   "outputs": [
    {
     "name": "stdout",
     "output_type": "stream",
     "text": [
      "False\n",
      "True\n"
     ]
    }
   ],
   "source": [
    "tuple1 = (46, 89, 21,99,74)\n",
    "print(isinstance(tuple1,list)) # Answer must be False\n",
    "print(isinstance(tuple1,tuple)) # Answer must be True"
   ]
  },
  {
   "cell_type": "markdown",
   "metadata": {},
   "source": [
    "### Built-in Function: map()\n",
    "* Map applies a function to all the items in an input list.\n",
    "* syntax: map(function_to_apply, list_of_inputs)"
   ]
  },
  {
   "cell_type": "code",
   "execution_count": 17,
   "metadata": {},
   "outputs": [
    {
     "name": "stdout",
     "output_type": "stream",
     "text": [
      "[512, 10648, 389017, 658503]\n"
     ]
    }
   ],
   "source": [
    "numbers = [8, 22, 73, 87]\n",
    "\n",
    "def powerofthree_cube(num):\n",
    "    return num ** 3\n",
    "\n",
    "#using map() function\n",
    "cubed = list(map(powerofthree_cube, numbers))\n",
    "print(cubed)"
   ]
  },
  {
   "cell_type": "markdown",
   "metadata": {},
   "source": [
    "### Built-in Function: reduce()\n",
    "* reduce() function is for executing  computation on a list and returning the result. for rolling compuataion to sequential pairs of value in the list"
   ]
  },
  {
   "cell_type": "code",
   "execution_count": 18,
   "metadata": {},
   "outputs": [
    {
     "name": "stdout",
     "output_type": "stream",
     "text": [
      "240000\n"
     ]
    }
   ],
   "source": [
    "from functools import reduce\n",
    "\n",
    "def multiplication(a,b):\n",
    "    return a*b;\n",
    "\n",
    "answer = reduce(multiplication, positivenum_list)\n",
    "print(answer)"
   ]
  },
  {
   "cell_type": "markdown",
   "metadata": {},
   "source": [
    "## User-defined Functions\n",
    "* User-defined functions are defined by a specific user to perform a certain specific task.\n",
    "* It helps to decompose a large coded program into small sections which make the whole program easy to understand, debug, reusable and maintain. \n",
    "* If a big project requires lengthy programming code than different functions can be developed to divide the workload."
   ]
  },
  {
   "cell_type": "code",
   "execution_count": 19,
   "metadata": {},
   "outputs": [],
   "source": [
    "# Let's program a code to find subtraction answer value between two given numbers in inupt\n",
    "def sub_cal(x, y):\n",
    "    subtraction = x - y\n",
    "    return subtraction"
   ]
  },
  {
   "cell_type": "code",
   "execution_count": 20,
   "metadata": {},
   "outputs": [
    {
     "name": "stdout",
     "output_type": "stream",
     "text": [
      "product of 170 and 96 is 74\n"
     ]
    }
   ],
   "source": [
    "x = 170\n",
    "y = 96\n",
    "print('product of {0} and {1} is {2}'.format(x, y, sub_cal(x, y)))"
   ]
  },
  {
   "cell_type": "markdown",
   "metadata": {},
   "source": [
    "## Lambda Function (or expression)/ Anonymous Function"
   ]
  },
  {
   "cell_type": "code",
   "execution_count": 21,
   "metadata": {},
   "outputs": [],
   "source": [
    "def timesTWO(variable):\n",
    "    return variable*2"
   ]
  },
  {
   "cell_type": "code",
   "execution_count": 22,
   "metadata": {},
   "outputs": [
    {
     "data": {
      "text/plain": [
       "18"
      ]
     },
     "execution_count": 22,
     "metadata": {},
     "output_type": "execute_result"
    }
   ],
   "source": [
    "timesTWO(9)"
   ]
  },
  {
   "cell_type": "code",
   "execution_count": 23,
   "metadata": {},
   "outputs": [
    {
     "data": {
      "text/plain": [
       "<function __main__.<lambda>(variable)>"
      ]
     },
     "execution_count": 23,
     "metadata": {},
     "output_type": "execute_result"
    }
   ],
   "source": [
    "lambda variable: variable*2"
   ]
  },
  {
   "cell_type": "markdown",
   "metadata": {},
   "source": [
    "## Methods\n",
    "* use to perform some specific tasks very efficiently and quickly\n",
    "* lower(), upper(), spilit() and so on"
   ]
  },
  {
   "cell_type": "code",
   "execution_count": 24,
   "metadata": {},
   "outputs": [
    {
     "data": {
      "text/plain": [
       "'i am batman'"
      ]
     },
     "execution_count": 24,
     "metadata": {},
     "output_type": "execute_result"
    }
   ],
   "source": [
    "# lower() - converts the string into lower case alphabets\n",
    "string1 = 'I aM BatMAn'\n",
    "string1.lower()"
   ]
  },
  {
   "cell_type": "code",
   "execution_count": 25,
   "metadata": {},
   "outputs": [
    {
     "data": {
      "text/plain": [
       "'I AM BATMAN'"
      ]
     },
     "execution_count": 25,
     "metadata": {},
     "output_type": "execute_result"
    }
   ],
   "source": [
    "# upper() - converts the string into upper case alphabets\n",
    "string1.upper()"
   ]
  },
  {
   "cell_type": "code",
   "execution_count": 26,
   "metadata": {},
   "outputs": [
    {
     "data": {
      "text/plain": [
       "['I', 'aM', 'BatMAn']"
      ]
     },
     "execution_count": 26,
     "metadata": {},
     "output_type": "execute_result"
    }
   ],
   "source": [
    "# split() - splits the strings into each word\n",
    "string1.split()"
   ]
  },
  {
   "cell_type": "code",
   "execution_count": 27,
   "metadata": {},
   "outputs": [
    {
     "data": {
      "text/plain": [
       "22.00000001"
      ]
     },
     "execution_count": 27,
     "metadata": {},
     "output_type": "execute_result"
    }
   ],
   "source": [
    "# pop()- shows the last value in the list\n",
    "list11 = [1, 22, 3, 4, 2,22.00000001]\n",
    "list11.pop()"
   ]
  },
  {
   "cell_type": "code",
   "execution_count": 28,
   "metadata": {},
   "outputs": [
    {
     "data": {
      "text/plain": [
       "False"
      ]
     },
     "execution_count": 28,
     "metadata": {},
     "output_type": "execute_result"
    }
   ],
   "source": [
    "'a' in list11"
   ]
  },
  {
   "cell_type": "code",
   "execution_count": 29,
   "metadata": {},
   "outputs": [
    {
     "data": {
      "text/plain": [
       "True"
      ]
     },
     "execution_count": 29,
     "metadata": {},
     "output_type": "execute_result"
    }
   ],
   "source": [
    "22 in list11"
   ]
  },
  {
   "cell_type": "markdown",
   "metadata": {},
   "source": [
    "## Modules and Packages\n",
    "* Modules refer to a file containing Python statements and definitions.\n",
    "* Standard modules in Python.https://docs.python.org/3/py-modindex.html\n",
    "* The package is the way of structuring python module namespace by using dotted module names."
   ]
  },
  {
   "cell_type": "code",
   "execution_count": 30,
   "metadata": {},
   "outputs": [],
   "source": [
    "# importing the numpy module \n",
    "import numpy # or you can use import numpy as np....result of it in next cell, you can use np instead of numpy "
   ]
  },
  {
   "cell_type": "code",
   "execution_count": 31,
   "metadata": {},
   "outputs": [],
   "source": [
    "a = numpy.array( [ [1,2], [3,4] ], dtype=complex )"
   ]
  },
  {
   "cell_type": "code",
   "execution_count": 32,
   "metadata": {},
   "outputs": [
    {
     "data": {
      "text/plain": [
       "array([[1.+0.j, 2.+0.j],\n",
       "       [3.+0.j, 4.+0.j]])"
      ]
     },
     "execution_count": 32,
     "metadata": {},
     "output_type": "execute_result"
    }
   ],
   "source": [
    "a"
   ]
  },
  {
   "cell_type": "code",
   "execution_count": 33,
   "metadata": {},
   "outputs": [
    {
     "data": {
      "text/plain": [
       "datetime.datetime(2020, 4, 5, 20, 55, 43, 105116)"
      ]
     },
     "execution_count": 33,
     "metadata": {},
     "output_type": "execute_result"
    }
   ],
   "source": [
    "# import datetime to find current time\n",
    "import datetime\n",
    "datetime.datetime.now() # format is (YYYY,MM,DD,HH,MM,SS,miliseconds)"
   ]
  },
  {
   "cell_type": "code",
   "execution_count": 34,
   "metadata": {},
   "outputs": [
    {
     "name": "stdout",
     "output_type": "stream",
     "text": [
      "2.718281828459045\n"
     ]
    }
   ],
   "source": [
    "# useing from...import statement\n",
    "import math as m\n",
    "print(m.e)"
   ]
  },
  {
   "cell_type": "code",
   "execution_count": 35,
   "metadata": {},
   "outputs": [
    {
     "data": {
      "text/plain": [
       "['__doc__',\n",
       " '__loader__',\n",
       " '__name__',\n",
       " '__package__',\n",
       " '__spec__',\n",
       " 'acos',\n",
       " 'acosh',\n",
       " 'asin',\n",
       " 'asinh',\n",
       " 'atan',\n",
       " 'atan2',\n",
       " 'atanh',\n",
       " 'ceil',\n",
       " 'copysign',\n",
       " 'cos',\n",
       " 'cosh',\n",
       " 'degrees',\n",
       " 'e',\n",
       " 'erf',\n",
       " 'erfc',\n",
       " 'exp',\n",
       " 'expm1',\n",
       " 'fabs',\n",
       " 'factorial',\n",
       " 'floor',\n",
       " 'fmod',\n",
       " 'frexp',\n",
       " 'fsum',\n",
       " 'gamma',\n",
       " 'gcd',\n",
       " 'hypot',\n",
       " 'inf',\n",
       " 'isclose',\n",
       " 'isfinite',\n",
       " 'isinf',\n",
       " 'isnan',\n",
       " 'ldexp',\n",
       " 'lgamma',\n",
       " 'log',\n",
       " 'log10',\n",
       " 'log1p',\n",
       " 'log2',\n",
       " 'modf',\n",
       " 'nan',\n",
       " 'pi',\n",
       " 'pow',\n",
       " 'radians',\n",
       " 'remainder',\n",
       " 'sin',\n",
       " 'sinh',\n",
       " 'sqrt',\n",
       " 'tan',\n",
       " 'tanh',\n",
       " 'tau',\n",
       " 'trunc']"
      ]
     },
     "execution_count": 35,
     "metadata": {},
     "output_type": "execute_result"
    }
   ],
   "source": [
    "# dir() function can be used here to find out names that are defined in a certain module.\n",
    "dir(m)"
   ]
  },
  {
   "cell_type": "code",
   "execution_count": 36,
   "metadata": {},
   "outputs": [
    {
     "name": "stdout",
     "output_type": "stream",
     "text": [
      "Convert angle x from degrees to radians.\n"
     ]
    }
   ],
   "source": [
    "# use docstring function on 'math' module\n",
    "print(m.radians.__doc__)"
   ]
  },
  {
   "cell_type": "code",
   "execution_count": 37,
   "metadata": {},
   "outputs": [],
   "source": [
    "# importing modules from python package is done by using (.) operator\n",
    "# import Gate.Image.open"
   ]
  },
  {
   "cell_type": "code",
   "execution_count": null,
   "metadata": {},
   "outputs": [],
   "source": []
  }
 ],
 "metadata": {
  "kernelspec": {
   "display_name": "Python 3",
   "language": "python",
   "name": "python3"
  },
  "language_info": {
   "codemirror_mode": {
    "name": "ipython",
    "version": 3
   },
   "file_extension": ".py",
   "mimetype": "text/x-python",
   "name": "python",
   "nbconvert_exporter": "python",
   "pygments_lexer": "ipython3",
   "version": "3.7.1"
  }
 },
 "nbformat": 4,
 "nbformat_minor": 2
}

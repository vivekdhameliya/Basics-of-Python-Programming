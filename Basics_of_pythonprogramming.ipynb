{
 "cells": [
  {
   "cell_type": "markdown",
   "metadata": {},
   "source": [
    "# Basics of Python Programming\n",
    "\n",
    "### I published an article on Medium about Basics of python programming, Which you can find available here….This notebook will help you to obtain the fundamental knowledge about how to code in python language. Currently, in the field of Data Scientist or Data Analyst, most of them are use Python for coding their script.\n",
    "\n",
    "### This notebook will just go through the basic topics in order:\n",
    "* Python Keywords & Identifiers\n",
    "* Variables & Data types\n",
    "    * Numbers\n",
    "    * Strings\n",
    "    * Booleans\n",
    "    * Lists\n",
    "    * Tuples \n",
    "    * Sets\n",
    "    * Dictionaries\n",
    "* Operators\n",
    "    * Arithmetic operators\n",
    "    * Comparision operators\n",
    "    * Logical operators\n",
    "    * Bitwise operators\n",
    "    * Assignment operators\n",
    "    * Special operator\n",
    "        * Identity operator\n",
    "        * MemberShip operator\n",
    "* if,elif, else Statements\n",
    "* For and While (also with range()) Loops\n",
    "* Functions\n",
    "* Lambda expressions\n",
    "* Map and Filter\n",
    "* Methods"
   ]
  },
  {
   "cell_type": "markdown",
   "metadata": {},
   "source": [
    "## Python Keywords & Identifiers"
   ]
  },
  {
   "cell_type": "code",
   "execution_count": null,
   "metadata": {},
   "outputs": [],
   "source": [
    "#Acquire all keywords in Current Python\n",
    "import keyword\n",
    "print(keyword.kwlist)\n",
    "print(\"Total number of keywords in your current version of python are \", len(keyword.kwlist))"
   ]
  },
  {
   "cell_type": "markdown",
   "metadata": {},
   "source": [
    "## Rules for Writing Identifiers:\n",
    "1. Identifiers can be a combination of letters in lowercase or uppercase or digits or an underscore.\n",
    "2. Identifiers must not start with a digit. For example, 1_variable is not executable, but variable_1 is executable.\n",
    "3. Keywords can't be used as identifiers.\n",
    "4. Can't use special symbols as an identifier"
   ]
  },
  {
   "cell_type": "code",
   "execution_count": null,
   "metadata": {},
   "outputs": [],
   "source": [
    "global = 1 # This will lead to SyntaxError: invaild syntax "
   ]
  },
  {
   "cell_type": "markdown",
   "metadata": {},
   "source": [
    "## Variables & Data types"
   ]
  },
  {
   "cell_type": "code",
   "execution_count": null,
   "metadata": {},
   "outputs": [],
   "source": [
    "# Variable is a location in memory to store data (value). You can use the assignment operator (=) to assign values to any particular variable.\n",
    "x = 3 # Assigning the value '3' to variable x\n",
    "y = 5 # Assigning the value '5' to variable y"
   ]
  },
  {
   "cell_type": "code",
   "execution_count": null,
   "metadata": {},
   "outputs": [],
   "source": [
    "# You can also assign the same value to multiple vaiables at once\n",
    "a = b = c = d = 'MachineLearning' "
   ]
  },
  {
   "cell_type": "code",
   "execution_count": null,
   "metadata": {},
   "outputs": [],
   "source": [
    "# Print storage address of varible x and y\n",
    "print(id(x))\n",
    "print (id(y))"
   ]
  },
  {
   "cell_type": "markdown",
   "metadata": {},
   "source": [
    "## Data types: Numbers"
   ]
  },
  {
   "cell_type": "code",
   "execution_count": null,
   "metadata": {},
   "outputs": [],
   "source": [
    "# data type is set to integer\n",
    "a = 3\n",
    "print (a,'type of given variable', type(a))"
   ]
  },
  {
   "cell_type": "code",
   "execution_count": null,
   "metadata": {},
   "outputs": [],
   "source": [
    "# Now we will change data type to float\n",
    "a = 2.5\n",
    "print (a,'type of given variable', type(a))"
   ]
  },
  {
   "cell_type": "code",
   "execution_count": null,
   "metadata": {},
   "outputs": [],
   "source": [
    "# Again we are changing data type to complex number\n",
    "a = 3+ 5j\n",
    "print (a, 'type of given variable', type(a))"
   ]
  },
  {
   "cell_type": "markdown",
   "metadata": {},
   "source": [
    "## Data types: Strings"
   ]
  },
  {
   "cell_type": "code",
   "execution_count": null,
   "metadata": {},
   "outputs": [],
   "source": [
    "string_a = 'Basics of python programming'\n",
    "print(string_a)"
   ]
  },
  {
   "cell_type": "code",
   "execution_count": null,
   "metadata": {},
   "outputs": [],
   "source": [
    "# performing slice operation on string\n",
    "string_a[4:]"
   ]
  },
  {
   "cell_type": "code",
   "execution_count": null,
   "metadata": {},
   "outputs": [],
   "source": [
    "print(string_a[4])"
   ]
  },
  {
   "cell_type": "markdown",
   "metadata": {},
   "source": [
    "## Data types: Booleans"
   ]
  },
  {
   "cell_type": "code",
   "execution_count": null,
   "metadata": {},
   "outputs": [],
   "source": [
    "X = True # providing boolean value 'True' to X variable\n",
    "print(type(X))"
   ]
  },
  {
   "cell_type": "markdown",
   "metadata": {},
   "source": [
    "## Data types: Lists"
   ]
  },
  {
   "cell_type": "code",
   "execution_count": null,
   "metadata": {},
   "outputs": [],
   "source": [
    "a = [8,'python', 4.6, 5+5j]\n",
    "print(a[3]) # printing 3rd index element"
   ]
  },
  {
   "cell_type": "code",
   "execution_count": null,
   "metadata": {},
   "outputs": [],
   "source": [
    "# List are mutable so you can perform alteration\n",
    "a[2] = 50 \n",
    "print(a)"
   ]
  },
  {
   "cell_type": "markdown",
   "metadata": {},
   "source": [
    "## Data types: Tuples"
   ]
  },
  {
   "cell_type": "code",
   "execution_count": null,
   "metadata": {},
   "outputs": [],
   "source": [
    "t = (9, 4, 'PYTHON', 6, 8) # creating tuple within ()\n",
    "print(t[3]) # printing 3rd index element"
   ]
  },
  {
   "cell_type": "code",
   "execution_count": null,
   "metadata": {},
   "outputs": [],
   "source": [
    "# tuple are not mutable so below operation will lead to Error.\n",
    "t[4] = 4"
   ]
  },
  {
   "cell_type": "markdown",
   "metadata": {},
   "source": [
    "## Data types: Sets"
   ]
  },
  {
   "cell_type": "code",
   "execution_count": null,
   "metadata": {},
   "outputs": [],
   "source": [
    "z = {5,10,15,20,25,15} #by default Set won't consider duplicate elements\n",
    "print(type(z))\n",
    "print(z)"
   ]
  },
  {
   "cell_type": "code",
   "execution_count": null,
   "metadata": {},
   "outputs": [],
   "source": [
    "# we are not able to print out particular index element\n",
    "print(z[4])"
   ]
  },
  {
   "cell_type": "markdown",
   "metadata": {},
   "source": [
    "## Data types: Dictionaries"
   ]
  },
  {
   "cell_type": "code",
   "execution_count": null,
   "metadata": {},
   "outputs": [],
   "source": [
    "dict = {'x': 'X-MEN', 'y': 'Ironman'}\n",
    "print(dict['y'])"
   ]
  },
  {
   "cell_type": "markdown",
   "metadata": {},
   "source": [
    "## Operators: Arithmetic operators (+ , -, *, /, %, //, ** )"
   ]
  },
  {
   "cell_type": "code",
   "execution_count": null,
   "metadata": {},
   "outputs": [],
   "source": [
    "a, b = 5, 7\n",
    "\n",
    "#performing addition\n",
    "print(a + b)\n",
    "\n",
    "#performing subtraction(-)\n",
    "#print(a - b)\n",
    "\n",
    "#performing multiplication(*)\n",
    "#print(a * b)\n",
    "\n",
    "#performing division(/)\n",
    "#print(a / b)\n",
    "\n",
    "#performing modulo division (%)\n",
    "#print(a % b)\n",
    "\n",
    "#performing Floor Division (//)\n",
    "#print(a // b)\n",
    "\n",
    "#performing Exponent (**)\n",
    "#print(a ** b)"
   ]
  },
  {
   "cell_type": "markdown",
   "metadata": {},
   "source": [
    "## Operators: Comparision operators (>, <, ==, !=, >=, <=)"
   ]
  },
  {
   "cell_type": "code",
   "execution_count": null,
   "metadata": {},
   "outputs": [],
   "source": [
    "a, b = 9, 20         \n",
    "\n",
    "print(a < b)  #checking a is less than b\n",
    "\n",
    "#checking a is greater than b\n",
    "#print(a > b)\n",
    "\n",
    "#checking a is equal to b\n",
    "#print(a == b)\n",
    "\n",
    "#checking a is not equal to b\n",
    "#print(a != b)\n",
    "\n",
    "#checking a greater than or equal to b\n",
    "#print(a >= b)\n",
    "\n",
    "#checking a less than or equal to b\n",
    "#print(a <= b)"
   ]
  },
  {
   "cell_type": "markdown",
   "metadata": {},
   "source": [
    "## Operators: Logical operators (and, or, not)"
   ]
  },
  {
   "cell_type": "code",
   "execution_count": null,
   "metadata": {},
   "outputs": [],
   "source": [
    "x, y = True, False\n",
    "\n",
    "#printing x and y\n",
    "print(x and y)\n",
    "\n",
    "#printing x or y\n",
    "#print(x or y)\n",
    "\n",
    "#printing x not y\n",
    "#print(x not y)"
   ]
  },
  {
   "cell_type": "markdown",
   "metadata": {},
   "source": [
    "## Operators: Bitwise operators (&,  |,  ~,  ^,  >>,  << )"
   ]
  },
  {
   "cell_type": "code",
   "execution_count": null,
   "metadata": {},
   "outputs": [],
   "source": [
    "a,b = 4, 3\n",
    "# performing Bitwise operator AND\n",
    "print(a & b)\n",
    "# all other operations like OR, NOT, XOR, rightshift and leftshift by using above symbols"
   ]
  },
  {
   "cell_type": "markdown",
   "metadata": {},
   "source": [
    "## Operators: Assignment operators (=,  +=,  -=,  *=,  /=,  %=,  //=,  **=, &=,  |=,  ^=,  >>=,  <<=)"
   ]
  },
  {
   "cell_type": "code",
   "execution_count": null,
   "metadata": {},
   "outputs": [],
   "source": [
    "x = 4\n",
    "# performing add AND\n",
    "x += 5\n",
    "print(x)\n",
    "# all other operations like Subtract AND, Multiply AND, Divide AND, Modulus AND, Floor Division, Exponent AND by using above symbols"
   ]
  },
  {
   "cell_type": "markdown",
   "metadata": {},
   "source": [
    "## Special Operators : Identity and MemberShip operators"
   ]
  },
  {
   "cell_type": "code",
   "execution_count": null,
   "metadata": {},
   "outputs": [],
   "source": [
    "#'is and is not' are the identity operators\n",
    "x = 89\n",
    "y = 89\n",
    "print(x is y) # checking 'is'\n",
    "\n",
    "#Checking 'is not' \n",
    "#print (x is not y)"
   ]
  },
  {
   "cell_type": "code",
   "execution_count": null,
   "metadata": {},
   "outputs": [],
   "source": [
    "# checking more examples of Identity operator\n",
    "list1 = [5, 9, 52]\n",
    "list2 = [5, 9, 52]\n",
    "\n",
    "string1 = 'Jhon'\n",
    "string2 = 'Jhon'\n",
    "\n",
    "print (list1 is list2) # checking 'is' for list objects\n",
    "print (string1 is not string2) # checking 'is not' for string objects"
   ]
  },
  {
   "cell_type": "code",
   "execution_count": null,
   "metadata": {},
   "outputs": [],
   "source": [
    "# in and not in are the membership operators\n",
    "list3 = [4, 9, 25, 63, 100]\n",
    "print(63 in list3) # checking 63 is present in a given list3 or not\n",
    "print(6 not in list3) # checking 6 is present in a given list3 or not"
   ]
  },
  {
   "cell_type": "markdown",
   "metadata": {},
   "source": [
    "## if,elif, else Statements"
   ]
  },
  {
   "cell_type": "code",
   "execution_count": null,
   "metadata": {},
   "outputs": [],
   "source": [
    "# Example of If statement\n",
    "if 5 < 50:\n",
    "    print('AI')"
   ]
  },
  {
   "cell_type": "code",
   "execution_count": null,
   "metadata": {},
   "outputs": [],
   "source": [
    "# Example of if...else statement\n",
    "if 5 > 3:\n",
    "    print('yes')\n",
    "else:\n",
    "    print('no')"
   ]
  },
  {
   "cell_type": "code",
   "execution_count": null,
   "metadata": {},
   "outputs": [],
   "source": [
    "# Example of if...elif...else statement\n",
    "if 5 == 6:\n",
    "    print('one')\n",
    "elif 45 == 66:\n",
    "    print('two')\n",
    "elif 9 != 9:\n",
    "    print('three')\n",
    "else:\n",
    "    print('Did you find this helpful to you?')"
   ]
  },
  {
   "cell_type": "markdown",
   "metadata": {},
   "source": [
    "## For and While Loops"
   ]
  },
  {
   "cell_type": "code",
   "execution_count": null,
   "metadata": {},
   "outputs": [],
   "source": [
    "# starting with for loop\n",
    "list4 = [15,16,17,18,19,20] # creating a list variable\n",
    "for items in list4: \n",
    "    print(items*2) # will multiply every item in list4 with 2"
   ]
  },
  {
   "cell_type": "code",
   "execution_count": null,
   "metadata": {},
   "outputs": [],
   "source": [
    "# for loop with range() function\n",
    "for i in range (0,50,10): # you should get 5 values between 0 to 50, with 10 distance to each other\n",
    "    print(i)"
   ]
  },
  {
   "cell_type": "markdown",
   "metadata": {},
   "source": [
    "### Let's do something interesting with For loop\n",
    "* we will write a python program to find all prime numbers, which will lie within a particular interval"
   ]
  },
  {
   "cell_type": "code",
   "execution_count": null,
   "metadata": {},
   "outputs": [],
   "source": [
    "int1, int2 = 1, 99\n",
    "\n",
    "print('List of available prime numbers between {0} and {1} are :'. format(int1,int2))\n",
    "\n",
    "for element in range(int1, int2+1): # it will take default step size = 1 here\n",
    "    if element > 1:\n",
    "        isDivisible = False;\n",
    "        for inte in range(2, element):\n",
    "            if element % inte == 0:\n",
    "                isDivisible = True;\n",
    "        if not isDivisible:        \n",
    "            print(element);"
   ]
  },
  {
   "cell_type": "code",
   "execution_count": null,
   "metadata": {},
   "outputs": [],
   "source": [
    "# Basic while loop example\n",
    "i = 5\n",
    "while i < 10:\n",
    "    print('i is: {}'.format(i))\n",
    "    i = i+1"
   ]
  },
  {
   "cell_type": "code",
   "execution_count": null,
   "metadata": {},
   "outputs": [],
   "source": [
    "# We will write a python program to check given number falls into prime number group or not using While loop\n",
    "\n",
    "number = int(input('Please enter a Number: ')) # converting string to integer\n",
    "\n",
    "isDivisible = False;\n",
    "\n",
    "i=2;\n",
    "while i < number:\n",
    "    if number % i == 0:\n",
    "        isDivisible = True;\n",
    "        print (\"{} is can divisible by {}\".format(number,i) )\n",
    "    i += 1;\n",
    "    \n",
    "if isDivisible:\n",
    "    print(\"{} is not a Prime Number\".format(number))\n",
    "else:\n",
    "    print(\"{} is a Prime number\".format(number))"
   ]
  },
  {
   "cell_type": "code",
   "execution_count": null,
   "metadata": {},
   "outputs": [],
   "source": []
  },
  {
   "cell_type": "code",
   "execution_count": null,
   "metadata": {},
   "outputs": [],
   "source": []
  },
  {
   "cell_type": "code",
   "execution_count": null,
   "metadata": {},
   "outputs": [],
   "source": []
  },
  {
   "cell_type": "code",
   "execution_count": null,
   "metadata": {},
   "outputs": [],
   "source": []
  },
  {
   "cell_type": "code",
   "execution_count": null,
   "metadata": {},
   "outputs": [],
   "source": []
  },
  {
   "cell_type": "code",
   "execution_count": null,
   "metadata": {},
   "outputs": [],
   "source": []
  },
  {
   "cell_type": "code",
   "execution_count": null,
   "metadata": {},
   "outputs": [],
   "source": []
  },
  {
   "cell_type": "code",
   "execution_count": null,
   "metadata": {},
   "outputs": [],
   "source": []
  },
  {
   "cell_type": "code",
   "execution_count": null,
   "metadata": {},
   "outputs": [],
   "source": []
  }
 ],
 "metadata": {
  "kernelspec": {
   "display_name": "Python 3",
   "language": "python",
   "name": "python3"
  },
  "language_info": {
   "codemirror_mode": {
    "name": "ipython",
    "version": 3
   },
   "file_extension": ".py",
   "mimetype": "text/x-python",
   "name": "python",
   "nbconvert_exporter": "python",
   "pygments_lexer": "ipython3",
   "version": "3.7.1"
  }
 },
 "nbformat": 4,
 "nbformat_minor": 2
}
